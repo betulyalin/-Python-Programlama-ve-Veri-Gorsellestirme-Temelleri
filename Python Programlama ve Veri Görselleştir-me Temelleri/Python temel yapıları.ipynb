{
 "cells": [
  {
   "cell_type": "code",
   "execution_count": 1,
   "id": "afd3b8ea-b29c-45db-ad20-d9036ab7a737",
   "metadata": {},
   "outputs": [],
   "source": [
    " #PEP8 kurallarına uygun basit örneklerle python temel yapıları:liste, dict, for-if, fonksiyon, class, try-except. "
   ]
  },
  {
   "cell_type": "code",
   "execution_count": null,
   "id": "1e7830e0-7193-4084-840a-eeb879e24d5f",
   "metadata": {},
   "outputs": [
    {
     "name": "stdout",
     "output_type": "stream",
     "text": [
      "elma\n",
      "armut\n",
      "muz\n",
      "çilek\n"
     ]
    }
   ],
   "source": [
    "#liste\n",
    "meyveler = [\"elma\", \"armut\", \"muz\"]\n",
    "meyveler.append(\"çilek\")\n",
    "\n",
    "for meyve in meyveler:\n",
    "    print(meyve)\n"
   ]
  },
  {
   "cell_type": "code",
   "execution_count": null,
   "id": "a062899e-b4bd-4c20-b654-960cf2fdcc96",
   "metadata": {},
   "outputs": [
    {
     "name": "stdout",
     "output_type": "stream",
     "text": [
      "Betül\n"
     ]
    }
   ],
   "source": [
    "#dict\n",
    "ogrenci = {\n",
    "    \"isim\": \"Betül\",\n",
    "    \"yas\": 22,\n",
    "    \"bolum\": \"Bilgisayar Mühendisliği\"\n",
    "}\n",
    "\n",
    "print(ogrenci[\"isim\"])\n"
   ]
  },
  {
   "cell_type": "code",
   "execution_count": null,
   "id": "ef7760b3-f5a6-4a44-b380-3432995378ae",
   "metadata": {},
   "outputs": [
    {
     "name": "stdout",
     "output_type": "stream",
     "text": [
      "1 tek sayıdır.\n",
      "2 çift sayıdır.\n",
      "3 tek sayıdır.\n",
      "4 çift sayıdır.\n",
      "5 tek sayıdır.\n"
     ]
    }
   ],
   "source": [
    "#for-if\n",
    "sayılar = [1, 2, 3, 4, 5]\n",
    "\n",
    "for sayı in sayılar:\n",
    "    if sayı % 2 == 0:\n",
    "        print(f\"{sayı} çift sayıdır.\")\n",
    "    else:\n",
    "        print(f\"{sayı} tek sayıdır.\")\n"
   ]
  },
  {
   "cell_type": "code",
   "execution_count": null,
   "id": "b9bf7faf-fb9c-4c9d-83a5-3db0cbe35334",
   "metadata": {},
   "outputs": [
    {
     "name": "stdout",
     "output_type": "stream",
     "text": [
      "120\n"
     ]
    }
   ],
   "source": [
    "#fonksiyon \n",
    "def faktoriyel(n):\n",
    "    if n < 0:\n",
    "        return \"Negatif sayıların faktöriyeli yoktur.\"\n",
    "    sonuc = 1\n",
    "    for i in range(1, n + 1):\n",
    "        sonuc *= i\n",
    "    return sonuc\n",
    "\n",
    "print(faktoriyel(5))\n"
   ]
  },
  {
   "cell_type": "code",
   "execution_count": null,
   "id": "980133bb-10d2-4753-b1c9-bb1c82a7980b",
   "metadata": {},
   "outputs": [
    {
     "name": "stdout",
     "output_type": "stream",
     "text": [
      "Ad: Betül, Yaş: 22\n"
     ]
    }
   ],
   "source": [
    "#class\n",
    "class Ogrenci:\n",
    "    def __init__(self, ad, yas):\n",
    "        self.ad = ad\n",
    "        self.yas = yas\n",
    "\n",
    "    def bilgileri_goster(self):\n",
    "        print(f\"Ad: {self.ad}, Yaş: {self.yas}\")\n",
    "\n",
    "ogr1 = Ogrenci(\"Betül\", 22)\n",
    "ogr1.bilgileri_goster()\n"
   ]
  },
  {
   "cell_type": "code",
   "execution_count": null,
   "id": "4d654042-5aff-42f2-ace3-c1b91d91330c",
   "metadata": {},
   "outputs": [
    {
     "name": "stdout",
     "output_type": "stream",
     "text": [
      "Bir sayı girin:  0\n"
     ]
    },
    {
     "name": "stdout",
     "output_type": "stream",
     "text": [
      "Sıfıra bölme hatası!\n"
     ]
    }
   ],
   "source": [
    "#try except blokları\n",
    "try:\n",
    "    sayi = int(input(\"Bir sayı girin: \"))\n",
    "    print(10 / sayi)\n",
    "except ZeroDivisionError:\n",
    "    print(\"Sıfıra bölme hatası!\")\n",
    "except ValueError:\n",
    "    print(\"Lütfen geçerli bir sayı girin.\")\n"
   ]
  }
 ],
 "metadata": {
  "kernelspec": {
   "display_name": "Ortam Adı",
   "language": "python",
   "name": "ortam_adi"
  },
  "language_info": {
   "codemirror_mode": {
    "name": "ipython",
    "version": 3
   },
   "file_extension": ".py",
   "mimetype": "text/x-python",
   "name": "python",
   "nbconvert_exporter": "python",
   "pygments_lexer": "ipython3",
   "version": "3.10.18"
  }
 },
 "nbformat": 4,
 "nbformat_minor": 5
}
